{
 "cells": [
  {
   "cell_type": "code",
   "execution_count": 2,
   "id": "9d67b56e-3c79-452a-8470-3ace70a28e5e",
   "metadata": {},
   "outputs": [
    {
     "name": "stdout",
     "output_type": "stream",
     "text": [
      "CSV file created at: secret-santa-result.csv\n"
     ]
    }
   ],
   "source": [
    "import pandas as pd\n",
    "import random\n",
    "\n",
    "\n",
    "def load_csv(file_path):\n",
    "    try:\n",
    "        return pd.read_csv(file_path)\n",
    "    except FileNotFoundError:\n",
    "        print(f\"Error: The file '{file_path}' was not found.\")\n",
    "        return None\n",
    "\n",
    "\n",
    "def get_random(rows_as_list, previous_data, email, assigned_emails):\n",
    "    for previous in previous_data:\n",
    "        if previous[1] == email:\n",
    "            while True:\n",
    "                random_child = random.choice(rows_as_list)\n",
    "                if (previous[3] != random_child[1] and\n",
    "                        random_child[1] != email and\n",
    "                        random_child[1] not in assigned_emails):\n",
    "                    return random_child\n",
    "    return None\n",
    "\n",
    "\n",
    "def secret_santa():\n",
    "    # input files\n",
    "    df = load_csv('Employee-List - Copy.csv')\n",
    "    previous = load_csv('Secret-Santa-Game-Result-2023 - Copy.csv')\n",
    "\n",
    "    if df is None or previous is None:\n",
    "        print(\"Error: Could not load one or both input files. Exiting.\")\n",
    "        return\n",
    "\n",
    "    try:\n",
    "        rows_as_list = df.values.tolist()\n",
    "        rows_as_list1 = previous.values.tolist()\n",
    "    except AttributeError:\n",
    "        print(\"Error: Invalid data structure in the input files.\")\n",
    "        return\n",
    "\n",
    "    data = {\n",
    "        \"Employee_Name\": [],\n",
    "        \"Employee_EmailID\": [],\n",
    "        \"Secret_Child_Name\": [],\n",
    "        \"Secret_Child_EmailID\": []\n",
    "    }\n",
    "\n",
    "    try:\n",
    "        for row in rows_as_list:\n",
    "            employee_email = row[1]\n",
    "            secret_child = get_random(rows_as_list, rows_as_list1, employee_email, data[\"Secret_Child_EmailID\"])\n",
    "            if secret_child:\n",
    "                data[\"Employee_Name\"].append(row[0])\n",
    "                data[\"Employee_EmailID\"].append(employee_email)\n",
    "                data[\"Secret_Child_Name\"].append(secret_child[0])\n",
    "                data[\"Secret_Child_EmailID\"].append(secret_child[1])\n",
    "            else:\n",
    "                print(f\"Warning: No valid Secret Child found for {row[0]}.\")\n",
    "    except IndexError:\n",
    "        print(\"Error: Data format in the employee list is incorrect.\")\n",
    "        return\n",
    "\n",
    "    try:\n",
    "        result_df = pd.DataFrame(data)\n",
    "        output_path = 'secret-santa-result.csv'\n",
    "        result_df.to_csv(output_path, index=False)\n",
    "        print(f\"CSV file created at: {output_path}\")\n",
    "    except Exception as e:\n",
    "        print(f\"Error: Could not save the CSV file: {e}\")\n",
    "\n",
    "\n",
    "if __name__ == \"__main__\":\n",
    "    secret_santa()\n",
    "\n"
   ]
  },
  {
   "cell_type": "code",
   "execution_count": null,
   "id": "973fd5b0-96c7-4937-8feb-ebdb018cd903",
   "metadata": {},
   "outputs": [],
   "source": []
  }
 ],
 "metadata": {
  "kernelspec": {
   "display_name": "Python 3 (ipykernel)",
   "language": "python",
   "name": "python3"
  },
  "language_info": {
   "codemirror_mode": {
    "name": "ipython",
    "version": 3
   },
   "file_extension": ".py",
   "mimetype": "text/x-python",
   "name": "python",
   "nbconvert_exporter": "python",
   "pygments_lexer": "ipython3",
   "version": "3.12.3"
  }
 },
 "nbformat": 4,
 "nbformat_minor": 5
}
